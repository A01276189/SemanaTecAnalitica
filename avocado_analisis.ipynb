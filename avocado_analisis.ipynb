{
 "cells": [
  {
   "cell_type": "code",
   "execution_count": 1,
   "metadata": {},
   "outputs": [],
   "source": [
    "import pandas as pd\n",
    "data = pd.read_csv(\"arteDeLaAnalitica/avocado_full.csv\")"
   ]
  },
  {
   "cell_type": "code",
   "execution_count": 19,
   "metadata": {},
   "outputs": [],
   "source": [
    "ny_data = data[data[\"region\"] == \"NewYork\"]\n",
    "cal_data = data[data[\"region\"] == \"California\"]\n",
    "cha_data = data[data[\"region\"] == \"Charlotte\"]"
   ]
  },
  {
   "cell_type": "code",
   "execution_count": 27,
   "metadata": {},
   "outputs": [
    {
     "name": "stdout",
     "output_type": "stream",
     "text": [
      "Producción Total New York: 67994156.75999999\n",
      "Producción Total California: 246682193.70999998\n",
      "Producción Total Charlotte: 11697942.41\n"
     ]
    }
   ],
   "source": [
    "print(\"Producción Total New York:\", ny_data[\"Total Bags\"].sum())\n",
    "print(\"Producción Total California:\", cal_data[\"Total Bags\"].sum())\n",
    "print(\"Producción Total Charlotte:\", cha_data[\"Total Bags\"].sum())"
   ]
  },
  {
   "cell_type": "code",
   "execution_count": 28,
   "metadata": {},
   "outputs": [
    {
     "name": "stdout",
     "output_type": "stream",
     "text": [
      "Promedio Producción Total New York: 201166.144260355\n",
      "Promedio Producción Total California: 729828.9754733727\n",
      "Promedio Producción Total Charlotte: 34609.297071005916\n"
     ]
    }
   ],
   "source": [
    "print(\"Promedio Producción Total New York:\", ny_data[\"Total Bags\"].mean())\n",
    "print(\"Promedio Producción Total California:\", cal_data[\"Total Bags\"].mean())\n",
    "print(\"Promedio Producción Total Charlotte:\", cha_data[\"Total Bags\"].mean())"
   ]
  },
  {
   "cell_type": "code",
   "execution_count": 30,
   "metadata": {},
   "outputs": [
    {
     "name": "stdout",
     "output_type": "stream",
     "text": [
      "DesvEst Producción Total New York: 197491.93271625863\n",
      "DesvEst Producción Total California: 813755.2335129493\n",
      "DesvEst Producción Total Charlotte: 37032.501145198745\n"
     ]
    }
   ],
   "source": [
    "print(\"DesvEst Producción Total New York:\", ny_data[\"Total Bags\"].std())\n",
    "print(\"DesvEst Producción Total California:\", cal_data[\"Total Bags\"].std())\n",
    "print(\"DesvEst Producción Total Charlotte:\", cha_data[\"Total Bags\"].std())"
   ]
  },
  {
   "cell_type": "code",
   "execution_count": 39,
   "metadata": {},
   "outputs": [
    {
     "name": "stdout",
     "output_type": "stream",
     "text": [
      "Porcentaje de Small Bags en New York: 85.89220792330921\n",
      "Porcentaje de Large Bags en New York: 13.579104470094174\n",
      "Porcentaje de XLarge Bags en New York: 0.5286890773112369\n"
     ]
    }
   ],
   "source": [
    "print (\"Porcentaje de Small Bags en New York:\", (ny_data['Small Bags'].sum() / ny_data['Total Bags'].sum()) * 100)\n",
    "print (\"Porcentaje de Large Bags en New York:\", (ny_data['Large Bags'].sum() / ny_data['Total Bags'].sum()) * 100)\n",
    "print (\"Porcentaje de XLarge Bags en New York:\", (ny_data['XLarge Bags'].sum() / ny_data['Total Bags'].sum()) * 100)"
   ]
  },
  {
   "cell_type": "code",
   "execution_count": 36,
   "metadata": {},
   "outputs": [
    {
     "name": "stdout",
     "output_type": "stream",
     "text": [
      "Porcentaje de Small Bags en California: 92.8715917612309\n",
      "Porcentaje de Large Bags en California: 4.991011197376464\n",
      "Porcentaje de XLarge Bags en California: 2.13739704139264\n"
     ]
    }
   ],
   "source": [
    "print (\"Porcentaje de Small Bags en California:\", (cal_data['Small Bags'].sum() / cal_data['Total Bags'].sum()) * 100)\n",
    "print (\"Porcentaje de Large Bags en California:\", (cal_data['Large Bags'].sum() / cal_data['Total Bags'].sum()) * 100)\n",
    "print (\"Porcentaje de XLarge Bags en California:\", (cal_data['XLarge Bags'].sum() / cal_data['Total Bags'].sum()) * 100)"
   ]
  },
  {
   "cell_type": "code",
   "execution_count": 37,
   "metadata": {},
   "outputs": [
    {
     "name": "stdout",
     "output_type": "stream",
     "text": [
      "Porcentaje de Small Bags en Charlotte: 90.98909190133378\n",
      "Porcentaje de Large Bags en Charlotte: 8.415900980658018\n",
      "Porcentaje de XLarge Bags en Charlotte: 0.5950071180082002\n"
     ]
    }
   ],
   "source": [
    "print (\"Porcentaje de Small Bags en Charlotte:\", (cha_data['Small Bags'].sum() / cha_data['Total Bags'].sum()) * 100)\n",
    "print (\"Porcentaje de Large Bags en Charlotte:\", (cha_data['Large Bags'].sum() / cha_data['Total Bags'].sum()) * 100)\n",
    "print (\"Porcentaje de XLarge Bags en Charlotte:\", (cha_data['XLarge Bags'].sum() / cha_data['Total Bags'].sum()) * 100)"
   ]
  }
 ],
 "metadata": {
  "kernelspec": {
   "display_name": "Python 3",
   "language": "python",
   "name": "python3"
  },
  "language_info": {
   "codemirror_mode": {
    "name": "ipython",
    "version": 3
   },
   "file_extension": ".py",
   "mimetype": "text/x-python",
   "name": "python",
   "nbconvert_exporter": "python",
   "pygments_lexer": "ipython3",
   "version": "3.11.2"
  }
 },
 "nbformat": 4,
 "nbformat_minor": 2
}
